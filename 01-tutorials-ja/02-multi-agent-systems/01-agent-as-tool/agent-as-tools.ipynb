{
 "cells": [
  {
   "cell_type": "markdown",
   "metadata": {
    "pycharm": {
     "name": "#%% md\n"
    }
   },
   "source": [
    "# Strands Agents におけるツールとしてのエージェント"
   ]
  },
  {
   "cell_type": "markdown",
   "metadata": {
    "pycharm": {
     "name": "#%%\n"
    }
   },
   "source": [
    "「ツールとしてのエージェント（Agents as Tools）」は、専門的なAIエージェントを呼び出し可能な関数（ツール）としてラップし、他のエージェントから利用できるようにするAIシステムのアーキテクチャパターンです。これにより、階層的な構造が生まれます：\n",
    "\n",
    "1. メインの「オーケストレーター」エージェントがユーザーとのやり取りを担当し、どの専門エージェントを呼び出すか判断します\n",
    "\n",
    "2. 専門的な「ツールエージェント」が、オーケストレーターから呼び出されたときにドメイン固有のタスクを実行します\n",
    "\n",
    "このアプローチは、人間のチームダイナミクスを模倣しており、マネージャーが専門家を調整し、それぞれが独自の専門知識を活かして複雑な問題を解決します。単一のエージェントがすべてを処理しようとするのではなく、最適な専門エージェントにタスクを委任します。"
   ]
  },
  {
   "cell_type": "markdown",
   "metadata": {
    "vscode": {
     "languageId": "plaintext"
    }
   },
   "source": [
    "## 主な利点とコア原則"
   ]
  },
  {
   "cell_type": "markdown",
   "metadata": {
    "vscode": {
     "languageId": "plaintext"
    }
   },
   "source": [
    "「ツールとしてのエージェント」パターンには、以下のような利点があります：\n",
    "\n",
    "- 関心の分離：各エージェントが特定の責任範囲を持つため、システムの理解や保守が容易になります\n",
    "- 階層的な委任：オーケストレーターがどの専門家を呼び出すか決定し、明確な指揮系統が生まれます\n",
    "- モジュール型アーキテクチャ：専門家エージェントは、システム全体に影響を与えずに追加・削除・修正が可能です\n",
    "- パフォーマンス向上：各エージェントは、そのタスクに最適化されたプロンプトやツールを持つことができます"
   ]
  },
  {
   "cell_type": "code",
   "execution_count": null,
   "metadata": {},
   "outputs": [],
   "source": [
    "!pip install -r requirements.txt"
   ]
  },
  {
   "cell_type": "code",
   "execution_count": null,
   "metadata": {},
   "outputs": [],
   "source": [
    "import os\n",
    "\n",
    "from strands import Agent, tool\n",
    "from strands_tools import file_write\n"
   ]
  },
  {
   "cell_type": "markdown",
   "metadata": {},
   "source": [
    "このモジュールでは、オーケストレーター型のマルチエージェントワークフローを作成します。\n",
    "\n",
    "<div style=\"text-align:left\">\n",
    "    <img src=\"images/architecture.png\" width=\"75%\" />\n",
    "\n",
    "</div>\n",
    "\n",
    "また、ネストしたエージェントを作成できる `use_llm` についても紹介します。"
   ]
  },
  {
   "cell_type": "markdown",
   "metadata": {},
   "source": [
    "## リサーチエージェント"
   ]
  },
  {
   "cell_type": "markdown",
   "metadata": {},
   "source": [
    "まずは http_request ツールを使った基本的なリサーチアシスタントを作成しましょう。"
   ]
  },
  {
   "cell_type": "code",
   "execution_count": null,
   "metadata": {},
   "outputs": [],
   "source": [
    "RESEARCH_ASSISTANT_PROMPT = \"\"\"You are a specialized research assistant. Focus only on providing\n",
    "factual, well-sourced information in response to research questions.\n",
    "Always cite your sources when possible.\"\"\""
   ]
  },
  {
   "cell_type": "code",
   "execution_count": null,
   "metadata": {},
   "outputs": [],
   "source": [
    "research_agent = Agent(\n",
    "    model=\"us.anthropic.claude-3-7-sonnet-20250219-v1:0\",\n",
    "    system_prompt=RESEARCH_ASSISTANT_PROMPT,\n",
    "    # tools=[http_request]  # Here you can enable an agentic ai search tool\n",
    ")\n",
    "\n",
    "query = \"Overview of Amazon Bedrock and its features\"\n",
    "# Call the agent and return its response\n",
    "response = research_agent(query)"
   ]
  },
  {
   "cell_type": "markdown",
   "metadata": {},
   "source": [
    "このエージェントをツールとしてラップすることで、他のエージェントからも利用できるようになります。\n",
    "\n",
    "#### ツールとしてのエージェント実装のベストプラクティス\n",
    "\n",
    "Strandly AIで「ツールとしてのエージェント」パターンを実装する際のポイント：\n",
    "\n",
    "1. 明確なツールドキュメント：エージェントの専門性を説明する詳細なdocstringを書く\n",
    "2. フォーカスしたシステムプロンプト：各専門エージェントはドメインに特化させる\n",
    "3. 一貫したレスポンス処理：レスポンスの抽出・整形パターンを統一する\n",
    "4. ツール選択の指針：オーケストレーターに、どの専門家をいつ使うか明確な基準を与える"
   ]
  },
  {
   "cell_type": "code",
   "execution_count": null,
   "metadata": {},
   "outputs": [],
   "source": [
    "@tool\n",
    "def research_assistant(query: str) -> str:\n",
    "    \"\"\"\n",
    "    Process and respond to research-related queries.\n",
    "\n",
    "    Args:\n",
    "        query: A research question requiring factual information\n",
    "\n",
    "    Returns:\n",
    "        A detailed research answer with citations\n",
    "    \"\"\"\n",
    "    try:\n",
    "        # Strands agents makes it easy to create a specialized agent\n",
    "        research_agent = Agent(\n",
    "            model=\"us.anthropic.claude-3-7-sonnet-20250219-v1:0\",\n",
    "            system_prompt=RESEARCH_ASSISTANT_PROMPT,\n",
    "        )\n",
    "\n",
    "        # Call the agent and return its response\n",
    "        response = research_agent(query)\n",
    "        return str(response)\n",
    "    except Exception as e:\n",
    "        return f\"Error in research assistant: {str(e)}\""
   ]
  },
  {
   "cell_type": "markdown",
   "metadata": {},
   "source": [
    "次に、ベストプラクティスに従い `product_recommendation_assistant`、`trip_planning_assistant`、`orchestrator` エージェントを作成します。"
   ]
  },
  {
   "cell_type": "markdown",
   "metadata": {},
   "source": [
    "### 商品レコメンデーションアシスタント"
   ]
  },
  {
   "cell_type": "code",
   "execution_count": null,
   "metadata": {},
   "outputs": [],
   "source": [
    "@tool\n",
    "def product_recommendation_assistant(query: str) -> str:\n",
    "    \"\"\"\n",
    "    Handle product recommendation queries by suggesting appropriate products.\n",
    "\n",
    "    Args:\n",
    "        query: A product inquiry with user preferences\n",
    "\n",
    "    Returns:\n",
    "        Personalized product recommendations with reasoning\n",
    "    \"\"\"\n",
    "    try:\n",
    "        product_agent = Agent(\n",
    "            model=\"us.anthropic.claude-3-7-sonnet-20250219-v1:0\",  # Optional: Specify the model ID\n",
    "            system_prompt=\"\"\"You are a specialized product recommendation assistant.\n",
    "            Provide personalized product suggestions based on user preferences. Always cite your sources.\"\"\",\n",
    "        )\n",
    "        # Call the agent and return its response\n",
    "        response = product_agent(query)\n",
    "\n",
    "        return str(response)\n",
    "    except Exception as e:\n",
    "        return f\"Error in product recommendation: {str(e)}\""
   ]
  },
  {
   "cell_type": "code",
   "execution_count": null,
   "metadata": {},
   "outputs": [],
   "source": [
    "product_recommendation_assistant(\"Product recommendations for flying cars\")"
   ]
  },
  {
   "cell_type": "markdown",
   "metadata": {},
   "source": [
    "### 旅行プランニングアシスタント"
   ]
  },
  {
   "cell_type": "code",
   "execution_count": null,
   "metadata": {},
   "outputs": [],
   "source": [
    "@tool\n",
    "def trip_planning_assistant(query: str) -> str:\n",
    "    \"\"\"\n",
    "    Create travel itineraries and provide travel advice.\n",
    "\n",
    "    Args:\n",
    "        query: A travel planning request with destination and preferences\n",
    "\n",
    "    Returns:\n",
    "        A detailed travel itinerary or travel advice\n",
    "    \"\"\"\n",
    "    try:\n",
    "        travel_agent = Agent(\n",
    "            model=\"us.anthropic.claude-3-7-sonnet-20250219-v1:0\",  # Optional: Specify the model ID\n",
    "            system_prompt=\"\"\"You are a specialized travel planning assistant.\n",
    "            Create detailed travel itineraries based on user preferences.\"\"\",\n",
    "        )\n",
    "        # Call the agent and return its response\n",
    "        response = travel_agent(query)\n",
    "\n",
    "        return str(response)\n",
    "    except Exception as e:\n",
    "        return f\"Error in trip planning: {str(e)}\""
   ]
  },
  {
   "cell_type": "markdown",
   "metadata": {},
   "source": [
    "### オーケストレーターエージェント"
   ]
  },
  {
   "cell_type": "code",
   "execution_count": null,
   "metadata": {},
   "outputs": [],
   "source": [
    "# Define orchestrator system prompt with clear tool selection guidance\n",
    "MAIN_SYSTEM_PROMPT = \"\"\"\n",
    "You are an assistant that routes queries to specialized agents:\n",
    "- For research questions and factual information → Use the research_assistant tool\n",
    "- For product recommendations and shopping advice → Use the product_recommendation_assistant tool\n",
    "- For travel planning and itineraries → Use the trip_planning_assistant tool\n",
    "- For simple questions not requiring specialized knowledge → Answer directly\n",
    "\n",
    "Always select the most appropriate tool based on the user's query.\n",
    "\"\"\""
   ]
  },
  {
   "cell_type": "code",
   "execution_count": null,
   "metadata": {},
   "outputs": [],
   "source": [
    "# Strands Agents allows easy integration of agent tools\n",
    "orchestrator = Agent(\n",
    "    model=\"us.anthropic.claude-3-7-sonnet-20250219-v1:0\",  # Optional: Specify the model ID\n",
    "    system_prompt=MAIN_SYSTEM_PROMPT,\n",
    "    tools=[\n",
    "        research_assistant,\n",
    "        product_recommendation_assistant,\n",
    "        trip_planning_assistant,\n",
    "        file_write,\n",
    "    ],\n",
    ")"
   ]
  },
  {
   "cell_type": "code",
   "execution_count": null,
   "metadata": {},
   "outputs": [],
   "source": [
    "# Example: E-commerce Customer Service System\n",
    "customer_query = (\n",
    "    \"I'm looking for hiking boots. Write the final response to current directory.\"\n",
    ")\n",
    "\n",
    "os.environ[\"BYPASS_TOOL_CONSENT\"] = \"true\"\n",
    "\n",
    "# The orchestrator automatically determines this requires multiple specialized agents\n",
    "response = orchestrator(customer_query)"
   ]
  },
  {
   "cell_type": "markdown",
   "metadata": {},
   "source": [
    "オーケストレーターのメッセージを見てみましょう。ここで、エージェントがサブエージェントをツールとして利用したことが分かります。"
   ]
  },
  {
   "cell_type": "code",
   "execution_count": null,
   "metadata": {},
   "outputs": [],
   "source": [
    "orchestrator.messages"
   ]
  },
  {
   "cell_type": "code",
   "execution_count": null,
   "metadata": {},
   "outputs": [],
   "source": [
    "customer_query = \"Can you help me plan my trip to Patagonia\"\n",
    "\n",
    "response = orchestrator(customer_query)"
   ]
  },
  {
   "cell_type": "code",
   "execution_count": null,
   "metadata": {},
   "outputs": [],
   "source": [
    "orchestrator.messages"
   ]
  },
  {
   "cell_type": "markdown",
   "metadata": {},
   "source": [
    "### 複数エージェントの呼び出し"
   ]
  },
  {
   "cell_type": "code",
   "execution_count": null,
   "metadata": {},
   "outputs": [],
   "source": [
    "orchestrator.messages = []"
   ]
  },
  {
   "cell_type": "code",
   "execution_count": null,
   "metadata": {},
   "outputs": [],
   "source": [
    "query = \"Can you do a research on spain? Also help me plan a 7 day trip.\"\n",
    "\n",
    "orchestrator(query)"
   ]
  },
  {
   "cell_type": "markdown",
   "metadata": {},
   "source": [
    "舞台裏では、オーケストレーターが以下の流れで処理します：\n",
    "1. まず `research_assistant` を呼び出す\n",
    "2. 次に `trip_planning_assistant` を呼び出す\n",
    "3. それぞれの専門エージェントの応答を統合し、両方の質問に対応した回答を作成します"
   ]
  },
  {
   "cell_type": "markdown",
   "metadata": {},
   "source": [
    "### 逐次エージェント連携パターン"
   ]
  },
  {
   "cell_type": "markdown",
   "metadata": {},
   "source": [
    "エージェントツールは複数のエージェントを組み合わせることも可能です。この例では、`research_agent` の出力を `summary_agent` に渡し、要約された応答を返します。"
   ]
  },
  {
   "cell_type": "code",
   "execution_count": null,
   "metadata": {},
   "outputs": [],
   "source": [
    " # define the user query\n",
    "topic = \"generative Ai\"\n",
    "# Create a research agent\n",
    "research_agent = Agent(\n",
    "    model=\"us.anthropic.claude-3-7-sonnet-20250219-v1:0\",\n",
    "    system_prompt=RESEARCH_ASSISTANT_PROMPT,\n",
    ")\n",
    "# Create a summarization agent\n",
    "summary_agent = Agent(\n",
    "    model=\"us.anthropic.claude-3-7-sonnet-20250219-v1:0\",\n",
    "    system_prompt=\"\"\"\n",
    "    You are a summarization specialist focused on distilling complex information into clear, concise summaries.\n",
    "    Your primary goal is to take detailed information and extract the key points, main arguments, and critical data.\n",
    "    You should maintain the accuracy of the original content while making it more digestible.\n",
    "    Focus on clarity, brevity, and highlighting the most important aspects of the information.\n",
    "    \"\"\",\n",
    ")\n",
    "\n",
    "print(\"Multiple agents created successfully!\")\n",
    "print(f\"\\n🔍 RESEARCH AGENT working on: {topic}\\n\") \n",
    "try:\n",
    "    # Agent 1: Invoke research agent\n",
    "    research_response = research_agent(\n",
    "        f\"Please gather comprehensive information about {topic}.\"\n",
    "    )\n",
    "    research_text = research_response.message.content[0][\"text\"]\n",
    "    print(\"\\n✂️ SUMMARY AGENT distilling the research\\n\")\n",
    "    \n",
    "    # Agent 2: Ask the summary agent to create a concise summary\n",
    "    summary_response = summary_agent(\n",
    "        f\"Please create a concise summary of this research: {research_text}\"\n",
    "    )\n",
    "    summary_text = summary_response.message.content[0][\"text\"]\n",
    "    \n",
    "    print(summary_text)\n",
    "except Exception as e:\n",
    "    print(f\"Error in research assistant: {str(e)}\")"
   ]
  },
  {
   "cell_type": "markdown",
   "metadata": {},
   "source": [
    "## おめでとうございます！\n",
    "\n",
    "Strands Agents でツールとしてエージェントを活用し、より複雑なエージェントアプリケーションを作成する方法を学びました。"
   ]
  }
 ],
 "metadata": {
  "kernelspec": {
   "display_name": "Python 3 (ipykernel)",
   "language": "python",
   "name": "python3"
  },
  "language_info": {
   "codemirror_mode": {
    "name": "ipython",
    "version": 3
   },
   "file_extension": ".py",
   "mimetype": "text/x-python",
   "name": "python",
   "nbconvert_exporter": "python",
   "pygments_lexer": "ipython3",
   "version": "3.12.9"
  }
 },
 "nbformat": 4,
 "nbformat_minor": 4
}
