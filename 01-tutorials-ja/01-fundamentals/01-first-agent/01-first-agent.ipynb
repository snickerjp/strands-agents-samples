{
 "cells": [
  {
   "cell_type": "markdown",
   "id": "8e394456",
   "metadata": {},
   "source": [
    "# Strands Agents クイックスタートガイド\n",
    "\n",
    "Strands Agentsは、AWSサービスと連携し複雑なタスクを実行できるAIエージェントを構築するための強力なフレームワークです。このクイックスタートガイドでは、最初のStrandsエージェントの作成方法を紹介します。\n",
    "\n",
    "## 前提条件\n",
    "\n",
    "- Python 3.10 以上\n",
    "- 適切な権限が設定されたAWSアカウント\n",
    "- Pythonプログラミングの基礎知識\n",
    "\n",
    "さっそく始めましょう！"
   ]
  },
  {
   "cell_type": "code",
   "execution_count": null,
   "id": "5f7b62fd",
   "metadata": {},
   "outputs": [],
   "source": [
    "# Install Strands using pip\n",
    "\n",
    "!pip install strands-agents strands-agents-tools"
   ]
  },
  {
   "cell_type": "markdown",
   "id": "79a45632",
   "metadata": {
    "vscode": {
     "languageId": "plaintext"
    }
   },
   "source": [
    "\n",
    "## はじめてのエージェントを作成\n",
    "\n",
    "エージェントを構成する主要なコンポーネントについて概要を確認しましょう。\n",
    "\n",
    "### 1. シンプルなエージェントを作成\n",
    "\n",
    "デフォルトのモデルプロバイダーである[Amazon Bedrock](https://aws.amazon.com/bedrock/)と、デフォルトモデルClaude 3.7 Sonnet（ご利用のAWSリージョン）を使ったエージェントを作成します。エージェントはローカル環境で動作しますが、Amazon BedrockのモデルはAWSアカウント上で実行され、エージェントはクラウド上のモデルを呼び出します。アーキテクチャは以下の通りです：\n",
    "\n",
    "<div style=\"text-align:center\">\n",
    "    <img src=\"images/simple_agent.png\" width=\"75%\" />\n",
    "</div>"
   ]
  },
  {
   "cell_type": "code",
   "execution_count": null,
   "id": "8d549346",
   "metadata": {},
   "outputs": [],
   "source": [
    "import warnings\n",
    "warnings.filterwarnings(action=\"ignore\", message=r\"datetime.datetime.utcnow\") \n",
    "\n",
    "from strands import Agent\n",
    "# Initialize your agent\n",
    "agent = Agent(\n",
    "    model=\"us.anthropic.claude-3-7-sonnet-20250219-v1:0\",  # Optional: Specify the model ID\n",
    "    system_prompt=\"You are a helpful assistant that provides concise responses.\"\n",
    ")\n",
    "\n",
    "# Send a message to the agent\n",
    "response = agent(\"Hello! Tell me a joke.\")\n",
    "# 日本語で送信\n",
    "# response = agent(\"こんにちは！ジョークを教えて。\")"
   ]
  },
  {
   "cell_type": "markdown",
   "id": "cc305d76",
   "metadata": {},
   "source": [
    "### 2. エージェントにツールを追加\n",
    "\n",
    "[strands-agents-tools](https://github.com/strands-agents/tools) リポジトリには、インポート可能な組み込みツールが用意されています。また、`@tool`デコレーターを使ってカスタムツールを作成することもできます。組み込みツールやカスタムツールを組み合わせてエージェントを作成できます。例えば、電卓の組み込みツールと天気を取得するカスタムツールを追加すると、以下のようなアーキテクチャになります：\n",
    "<div style=\"text-align:center\">\n",
    "    <img src=\"images/agent_with_tools.png\" width=\"75%\" />\n",
    "</div>\n",
    "\n",
    "このアーキテクチャを実装すると、次のようになります:"
   ]
  },
  {
   "cell_type": "code",
   "execution_count": null,
   "id": "c84d9466",
   "metadata": {},
   "outputs": [],
   "source": [
    "from strands import Agent, tool\n",
    "from strands_tools import calculator # Import the calculator tool\n",
    "\n",
    "# Create a custom tool \n",
    "@tool\n",
    "def weather():\n",
    "    \"\"\" Get weather \"\"\" # Dummy implementation\n",
    "    return \"sunny\"\n",
    "\n",
    "agent = Agent(\n",
    "    model=\"us.anthropic.claude-3-7-sonnet-20250219-v1:0\",  # Optional: Specify the model ID\n",
    "    tools=[calculator, weather],\n",
    "    system_prompt=\"You're a helpful assistant. You can do simple math calculation, and tell the weather.\")\n",
    "\n",
    "response = agent(\"What is the weather today?\")\n",
    "# 日本語で送信\n",
    "# response = agent(\"今日はどんな天気ですか？\")\n",
    "\n",
    "print(response)"
   ]
  },
  {
   "cell_type": "markdown",
   "id": "c96537ad-a5af-49d9-aaff-c9101ae31e73",
   "metadata": {},
   "source": [
    "### ツールを直接呼び出す\n",
    "\n",
    "一部の用途では、ツールを直接呼び出すことが重要です。たとえば、ツールのデバッグや、エージェントの知識を事前に顧客情報で埋め込む場合、またはツール内で別のツールを使いたい場合などです。Strandsでは、エージェントの`tool`メソッドの後にツール名を続けて呼び出すことができます。"
   ]
  },
  {
   "cell_type": "code",
   "execution_count": null,
   "id": "7743fe69",
   "metadata": {},
   "outputs": [],
   "source": [
    "# Alternatively, you can invoke the tool directly like so:\n",
    "agent.tool.calculator(expression=\"sin(x)\", mode=\"derive\", wrt=\"x\", order=2)"
   ]
  },
  {
   "cell_type": "markdown",
   "id": "1f6bceed",
   "metadata": {},
   "source": [
    "\n",
    "### 3. ログレベルとフォーマットの変更\n",
    "\n",
    "Strands SDKは、Python標準の`logging`モジュールを利用して動作状況を可視化します。\n",
    "\n",
    "Strands Agents SDKのロギングはシンプルな設計です：\n",
    "\n",
    "1. **モジュール単位のロガー**：各モジュールはlogging.getLogger(__name__)で独自のロガーを作成し、Pythonの階層的なロギングのベストプラクティスに従っています。\n",
    "2. **ルートロガー**：SDK内のすべてのロガーは「strands」ルートロガーの子となり、SDK全体のロギング設定が容易です。\n",
    "3. **デフォルト動作**：SDKはデフォルトでハンドラやログレベルを設定しないため、アプリケーション側のロギング設定と統合できます。\n",
    "\n",
    "Strands Agents SDKのロギングを有効化したい場合や、デバッグ時にログレベルやフォーマットを変更したい場合は、以下のように設定できます："
   ]
  },
  {
   "cell_type": "code",
   "execution_count": null,
   "id": "66415155",
   "metadata": {},
   "outputs": [],
   "source": [
    "import logging\n",
    "from strands import Agent\n",
    "\n",
    "# Enables Strands debug log level\n",
    "logging.getLogger(\"strands\").setLevel(logging.DEBUG) # or logging.INFO\n",
    "\n",
    "# Sets the logging format and streams logs to stderr\n",
    "logging.basicConfig(\n",
    "    format=\"%(levelname)s | %(name)s | %(message)s\",\n",
    "    handlers=[logging.StreamHandler()]\n",
    ")\n",
    "\n",
    "agent = Agent(model=\"us.anthropic.claude-3-7-sonnet-20250219-v1:0\")  # Optional: Specify the model ID\n",
    "agent(\"Hello!\")"
   ]
  },
  {
   "cell_type": "markdown",
   "id": "7c5ddfed",
   "metadata": {},
   "source": [
    "\n",
    "### 4. モデルプロバイダー\n",
    "\n",
    "デフォルトのモデルプロバイダーは[Amazon Bedrock](https://aws.amazon.com/bedrock/)で、デフォルトモデルはご利用中のAWS環境リージョンのClaude 3.7 Sonnetです。\n",
    "\n",
    "Amazon Bedrockで別のモデルを利用したい場合は、モデルID文字列を直接指定できます："
   ]
  },
  {
   "cell_type": "code",
   "execution_count": null,
   "id": "207432b2",
   "metadata": {},
   "outputs": [],
   "source": [
    "from strands import Agent\n",
    "\n",
    "agent = Agent(model=\"anthropic.claude-3-5-haiku-20241022-v1:0\")\n",
    "print(agent.model.config)"
   ]
  },
  {
   "cell_type": "markdown",
   "id": "88b79bb2",
   "metadata": {},
   "source": [
    "\n",
    "モデル構成をさらに細かく制御したい場合は、`BedrockModel`プロバイダーインスタンスを作成できます："
   ]
  },
  {
   "cell_type": "code",
   "execution_count": null,
   "id": "13767dd5",
   "metadata": {},
   "outputs": [],
   "source": [
    "import boto3\n",
    "from strands import Agent\n",
    "from strands.models import BedrockModel\n",
    "\n",
    "# Create a BedrockModel\n",
    "bedrock_model = BedrockModel(\n",
    "    model_id=\"anthropic.claude-3-5-haiku-20241022-v1:0\",\n",
    "    region_name='us-west-2',\n",
    "    temperature=0.3,\n",
    ")\n",
    "\n",
    "agent = Agent(model=bedrock_model)"
   ]
  },
  {
   "cell_type": "markdown",
   "id": "538e5e20",
   "metadata": {},
   "source": [
    "\n",
    "利用可能なモデルプロバイダーの詳細は、[モデルプロバイダー クイックスタートページ](https://strandsagents.com/0.1.x/user-guide/quickstart/#model-providers) をご覧ください。\n"
   ]
  },
  {
   "cell_type": "markdown",
   "id": "037ba1d7",
   "metadata": {},
   "source": [
    "**おめでとうございます！これでStrandsを使ったシンプルなエージェントの作り方を学びました！**"
   ]
  },
  {
   "cell_type": "markdown",
   "id": "8ad2d9c3",
   "metadata": {},
   "source": [
    "## 【オプション】タスク特化型エージェント RecipeBot 🍽️ を作ってみよう\n",
    "\n",
    "実践的なタスク特化型エージェントの例として、レシピを提案したり料理に関する質問に答える「RecipeBot」を作成します。さっそく始めましょう！\n",
    "\n",
    "以下のようなものを作成します："
   ]
  },
  {
   "cell_type": "markdown",
   "id": "bff74b3f",
   "metadata": {},
   "source": [
    "<div style=\"text-align:center\">\n",
    "    <img src=\"images/interactive_recipe_agent.png\" width=\"75%\" />\n",
    "</div>"
   ]
  },
  {
   "cell_type": "code",
   "execution_count": null,
   "id": "c4d5761c",
   "metadata": {},
   "outputs": [],
   "source": [
    "# Install the required packages\n",
    "%pip install ddgs # Also install strands-agents strands-agents-tools if you haven't already"
   ]
  },
  {
   "cell_type": "code",
   "execution_count": null,
   "id": "580312ca",
   "metadata": {},
   "outputs": [],
   "source": [
    "from strands import Agent, tool\n",
    "from ddgs import DDGS\n",
    "from ddgs.exceptions import RatelimitException, DDGSException\n",
    "import logging\n",
    "\n",
    "# Configure logging\n",
    "logging.getLogger(\"strands\").setLevel(logging.INFO)\n",
    "\n",
    "# Define a websearch tool\n",
    "@tool\n",
    "def websearch(keywords: str, region: str = \"us-en\", max_results: int | None = None) -> str:\n",
    "    \"\"\"Search the web to get updated information.\n",
    "    Args:\n",
    "        keywords (str): The search query keywords.\n",
    "        region (str): The search region: wt-wt, us-en, uk-en, ru-ru, etc..\n",
    "        max_results (int | None): The maximum number of results to return.\n",
    "    Returns:\n",
    "        List of dictionaries with search results.\n",
    "    \"\"\"\n",
    "    try:\n",
    "        results = DDGS().text(keywords, region=region, max_results=max_results)\n",
    "        return results if results else \"No results found.\"\n",
    "    except RatelimitException:\n",
    "        return \"RatelimitException: Please try again after a short delay.\"\n",
    "    except DDGSException as d:\n",
    "        return f\"DuckDuckGoSearchException: {d}\"\n",
    "    except Exception as e:\n",
    "        return f\"Exception: {e}\"\n"
   ]
  },
  {
   "cell_type": "code",
   "execution_count": null,
   "id": "0560c754",
   "metadata": {},
   "outputs": [],
   "source": [
    "# Create a recipe assistant agent\n",
    "recipe_agent = Agent(\n",
    "    model=\"us.anthropic.claude-3-7-sonnet-20250219-v1:0\",  # Optional: Specify the model ID\n",
    "    system_prompt=\"\"\"You are RecipeBot, a helpful cooking assistant.\n",
    "    Help users find recipes based on ingredients and answer cooking questions.\n",
    "    Use the websearch tool to find recipes when users mention ingredients or to\n",
    "    look up cooking information.\"\"\",\n",
    "    # Import the websearch tool we created above\n",
    "    tools=[websearch],\n",
    ")"
   ]
  },
  {
   "cell_type": "code",
   "execution_count": null,
   "id": "6a6dafb2",
   "metadata": {},
   "outputs": [],
   "source": [
    "response = recipe_agent(\"Suggest a recipe with chicken and broccoli.\")\n",
    "\n",
    "# Other examples:\n",
    "# response = recipe_agent(\"How do I cook quinoa?\")\n",
    "# response = recipe_agent(\"How can I substitute white wine in shrimp pasta?\")\n",
    "# response = recipe_agent(\"What are the health benefits of asparagus?\")\n",
    "print(response)"
   ]
  },
  {
   "cell_type": "code",
   "execution_count": null,
   "id": "66959d72",
   "metadata": {},
   "outputs": [],
   "source": [
    "# 日本語\n",
    "response = recipe_agent(\"鶏肉とブロッコリーを使ったレシピを提案してください。\")\n",
    "\n",
    "# 他の例:\n",
    "# response = recipe_agent(\"キヌアの調理方法を教えてください。\")\n",
    "# response = recipe_agent(\"エビのパスタで白ワインの代用は何ができますか？\")\n",
    "# response = recipe_agent(\"アスパラガスの健康効果を教えてください。\")\n",
    "print(response)"
   ]
  },
  {
   "cell_type": "markdown",
   "id": "9f92c8a4",
   "metadata": {},
   "source": [
    "#### 以上です！たった数行のコードでツール付きのユースケースエージェントが完成しました🥳。\n",
    "\n",
    "より詳しいクイックスタートガイドは[Strandsドキュメント](https://strandsagents.com/0.1.x/user-guide/quickstart/)をご覧ください。"
   ]
  },
  {
   "cell_type": "markdown",
   "id": "0cae9558",
   "metadata": {},
   "source": [
    "### 【オプション】RecipeBotをCLIで実行する\n",
    "\n",
    "SageMaker Studioなどのターミナルから、`02_simple_interactive_usecase/recipe_bot.py`のPythonスクリプトを使ってエージェントを対話モードで実行できます。これにより、コマンドライン上でメッセージを送信し、応答を受け取ることができます。\n",
    "\n",
    "以下のコマンドを実行してください：\n",
    "\n",
    "```cli\n",
    "cd samples/01-tutorials/01-fundamentals/01-first-agent/02-simple-interactive-usecase/\n",
    "pip install -r requirements.txt\n",
    "python recipe_bot.py\n",
    "```\n",
    "\n",
    "これで、コマンドラインインターフェース（CLI）を通じてボットと会話できます。"
   ]
  }
 ],
 "metadata": {
  "kernelspec": {
   "display_name": "Python 3 (ipykernel)",
   "language": "python",
   "name": "python3"
  },
  "language_info": {
   "codemirror_mode": {
    "name": "ipython",
    "version": 3
   },
   "file_extension": ".py",
   "mimetype": "text/x-python",
   "name": "python",
   "nbconvert_exporter": "python",
   "pygments_lexer": "ipython3",
   "version": "3.12.9"
  }
 },
 "nbformat": 4,
 "nbformat_minor": 5
}
