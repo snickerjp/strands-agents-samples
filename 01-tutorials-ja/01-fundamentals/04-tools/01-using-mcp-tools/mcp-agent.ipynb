{
 "cells": [
  {
   "cell_type": "markdown",
   "metadata": {
    "collapsed": false,
    "jupyter": {
     "outputs_hidden": false
    },
    "pycharm": {
     "name": "#%% md\n"
    }
   },
   "source": [
    "# Strands AgentでModel Context Protocol (MCP)をツールとして利用する\n",
    "\n",
    "## 概要\n",
    "[Model Context Protocol (MCP)](https://modelcontextprotocol.io/introduction)は、アプリケーションが大規模言語モデル（LLM）にコンテキストを提供する方法を標準化するオープンプロトコルです。Strands AI SDKはMCPと連携し、エージェントの機能を外部ツールやサービスで拡張できます。\n",
    "\n",
    "MCPは、エージェントと追加ツールを提供するMCPサーバー間の通信を可能にします。Strands Agent SDKには、MCPサーバーへの接続とツール利用のための組み込みサポートが含まれています。\n",
    "\n",
    "この例では、Strands AgentでMCPツールを利用する方法を紹介します。利用するMCPサーバーは[AWS Documentation MCP server](https://awslabs.github.io/mcp/servers/aws-documentation-mcp-server/)で、AWSドキュメントへのアクセス、検索、レコメンデーション機能を提供します。このMCPサーバーには主に以下の3つの機能があります：\n",
    "\n",
    "- **ドキュメントの取得**: AWSドキュメントページを取得し、Markdown形式に変換\n",
    "- **ドキュメント検索**: 公式検索APIを利用したAWSドキュメントの検索\n",
    "- **レコメンデーション**: AWSドキュメントページの関連コンテンツを提案\n",
    "\n",
    "\n",
    "\n",
    "## エージェント詳細\n",
    "<div style=\"float: left; margin-right: 20px;\">\n",
    "    \n",
    "|機能                |説明                                               |\n",
    "|--------------------|---------------------------------------------------|\n",
    "|利用機能            |MCPツール                                          |\n",
    "|エージェント構成    |シングルエージェントアーキテクチャ                 |\n",
    "\n",
    "</div>"
   ]
  },
  {
   "cell_type": "markdown",
   "metadata": {},
   "source": [
    "## アーキテクチャ\n",
    "\n",
    "<div style=\"text-align:center\">\n",
    "    <img src=\"images/architecture.png\" width=\"65%\" />\n",
    "</div>\n",
    "\n",
    "## 主な特徴\n",
    "* **シングルエージェントアーキテクチャ**: この例では、1つのエージェントがMCPツールと連携します\n",
    "* **MCPツール**: エージェントにMCPツールを統合"
   ]
  },
  {
   "cell_type": "markdown",
   "metadata": {},
   "source": [
    "## セットアップと前提条件\n",
    "\n",
    "### 前提条件\n",
    "* Python 3.10以上\n",
    "* AWSアカウント\n",
    "* Amazon BedrockでAnthropic Claude 3.7が有効\n",
    "\n",
    "それでは、Strands Agentのための必要なパッケージをインストールしましょう。"
   ]
  },
  {
   "cell_type": "code",
   "execution_count": null,
   "metadata": {},
   "outputs": [],
   "source": [
    "# installing pre-requisites\n",
    "!pip install -r requirements.txt"
   ]
  },
  {
   "cell_type": "markdown",
   "metadata": {},
   "source": [
    "### 依存パッケージのインポート\n",
    "\n",
    "次に、依存パッケージをインポートします。"
   ]
  },
  {
   "cell_type": "code",
   "execution_count": null,
   "metadata": {},
   "outputs": [],
   "source": [
    "import threading\n",
    "import time\n",
    "from datetime import timedelta\n",
    "\n",
    "from mcp import StdioServerParameters, stdio_client\n",
    "from mcp.client.streamable_http import streamablehttp_client\n",
    "from mcp.server import FastMCP\n",
    "from strands import Agent\n",
    "from strands.tools.mcp import MCPClient"
   ]
  },
  {
   "attachments": {},
   "cell_type": "markdown",
   "metadata": {},
   "source": [
    "### stdioトランスポートでMCPサーバーに接続する\n",
    "\n",
    "MCPの[トランスポート](https://modelcontextprotocol.io/specification/2025-03-26/basic/transports)は、クライアントとサーバー間の通信の基盤を提供します。メッセージの送受信の仕組みを担います。現在、MCPには3つの標準トランスポート実装があります:\n",
    "\n",
    "- **標準入出力（stdio）**: 標準入力・出力ストリームを通じて通信します。ローカル統合やコマンドラインツールに便利です。\n",
    "- **Streamable HTTP**: 以前のHTTP+SSEトランスポートの代替です。Streamable HTTPトランスポートでは、サーバーは複数のクライアント接続を処理できる独立したプロセスとして動作します。HTTP POSTやGETリクエストを利用し、必要に応じてServer-Sent Events（SSE）で複数のサーバーメッセージをストリーミングできます。\n",
    "- **SSE**: HTTPベースのMCPサーバーでServer-Sent Eventsトランスポートを使うレガシー方式です。  \n",
    "\n",
    "コマンドラインツールやローカル統合、シェルスクリプトで使う場合はstdioを、柔軟かつ効率的な通信やリソース消費を抑えたい場合はStreamable HTTPを使うのが推奨されます。\n",
    "\n",
    "独自の用途に合わせて**カスタムトランスポート**も実装可能です。\n",
    "\n",
    "\n",
    "それでは、stdioトランスポートでMCPサーバーに接続してみましょう。まず、`MCPClient`クラスを使って[AWS Documentation MCP Server](https://awslabs.github.io/mcp/servers/aws-documentation-mcp-server/)に接続します。このサーバーはAWSドキュメントへのアクセス、検索、レコメンデーション機能を提供します。"
   ]
  },
  {
   "cell_type": "code",
   "execution_count": null,
   "metadata": {},
   "outputs": [],
   "source": [
    "# Connect to an MCP server using stdio transport\n",
    "stdio_mcp_client = MCPClient(\n",
    "    lambda: stdio_client(\n",
    "        StdioServerParameters(\n",
    "            command=\"uvx\", args=[\"awslabs.aws-documentation-mcp-server@latest\"]\n",
    "        )\n",
    "    )\n",
    ")"
   ]
  },
  {
   "cell_type": "markdown",
   "metadata": {},
   "source": [
    "#### エージェント設定と実行\n",
    "\n",
    "次に、先ほど作成した`stdio_mcp_client`オブジェクトから利用可能なツールを取得し、エージェントの設定を行います。ツールの一覧は`list_tools_sync`メソッドで取得できます。\n",
    "\n",
    "その後、エージェントに質問を投げてみましょう。"
   ]
  },
  {
   "cell_type": "code",
   "execution_count": null,
   "metadata": {},
   "outputs": [],
   "source": [
    "# Create an agent with MCP tools\n",
    "with stdio_mcp_client:\n",
    "    # Get the tools from the MCP server\n",
    "    tools = stdio_mcp_client.list_tools_sync()\n",
    "\n",
    "    # Create an agent with these tools\n",
    "    agent = Agent(\n",
    "        model=\"us.anthropic.claude-3-7-sonnet-20250219-v1:0\",\n",
    "        tools=tools)\n",
    "\n",
    "    response = agent(\"What is Amazon Bedrock pricing model. Be concise.\")"
   ]
  },
  {
   "cell_type": "markdown",
   "metadata": {},
   "source": [
    "### Streamable HTTPでMCPサーバーに接続する\n",
    "\n",
    "次は、Streamable HTTPトランスポートでMCPサーバーに接続してみましょう。まず、Streamable HTTPトランスポートを使ったシンプルなMCPサーバーを起動します。"
   ]
  },
  {
   "cell_type": "markdown",
   "metadata": {},
   "source": [
    "この例では独自のMCPサーバーを作成します。アーキテクチャは以下のようになります。\n",
    "\n",
    "<div style=\"text-align:center\">\n",
    "    <img src=\"images/architecture_2.png\" width=\"65%\" />\n",
    "</div>"
   ]
  },
  {
   "cell_type": "code",
   "execution_count": null,
   "metadata": {},
   "outputs": [],
   "source": [
    "# Create an MCP server\n",
    "mcp = FastMCP(\"Calculator Server\")\n",
    "\n",
    "# Define a tool\n",
    "\n",
    "\n",
    "@mcp.tool(description=\"Calculator tool which performs calculations\")\n",
    "def calculator(x: int, y: int) -> int:\n",
    "    return x + y\n",
    "\n",
    "\n",
    "@mcp.tool(description=\"This is a long running tool\")\n",
    "def long_running_tool(name: str) -> str:\n",
    "    time.sleep(25)\n",
    "    return f\"Hello {name}\"\n",
    "\n",
    "\n",
    "def main():\n",
    "    mcp.run(transport=\"streamable-http\", mount_path=\"mcp\")"
   ]
  },
  {
   "cell_type": "markdown",
   "metadata": {},
   "source": [
    "それでは、`streamable-http`サーバーをスレッドで起動しましょう。"
   ]
  },
  {
   "cell_type": "code",
   "execution_count": null,
   "metadata": {},
   "outputs": [],
   "source": [
    "thread = threading.Thread(target=main)\n",
    "thread.start()"
   ]
  },
  {
   "cell_type": "markdown",
   "metadata": {},
   "source": [
    "#### Streamable HTTPクライアントをエージェントに統合\n",
    "\n",
    "次に、`streamablehttp_client`を使ってこのサーバーとシンプルなエージェントを連携させます。"
   ]
  },
  {
   "cell_type": "code",
   "execution_count": null,
   "metadata": {},
   "outputs": [],
   "source": [
    "def create_streamable_http_transport():\n",
    "    return streamablehttp_client(\"http://localhost:8000/mcp\")\n",
    "\n",
    "\n",
    "streamable_http_mcp_client = MCPClient(create_streamable_http_transport)"
   ]
  },
  {
   "cell_type": "markdown",
   "metadata": {},
   "source": [
    "#### エージェント設定と実行\n",
    "\n",
    "次に、先ほど作成した`streamable_http_mcp_client`オブジェクトから利用可能なツールを取得し、エージェントの設定を行います。ツールの一覧は`list_tools_sync`メソッドで取得できます。\n",
    "\n",
    "その後、エージェントに質問を投げてみましょう。"
   ]
  },
  {
   "cell_type": "code",
   "execution_count": null,
   "metadata": {},
   "outputs": [],
   "source": [
    "with streamable_http_mcp_client:\n",
    "    tools = streamable_http_mcp_client.list_tools_sync()\n",
    "\n",
    "    agent = Agent(\n",
    "        model=\"us.anthropic.claude-3-7-sonnet-20250219-v1:0\",\n",
    "        tools=tools)\n",
    "\n",
    "    response = str(agent(\"What is 2 + 2?\"))"
   ]
  },
  {
   "cell_type": "markdown",
   "metadata": {},
   "source": [
    "### ツールの直接呼び出し"
   ]
  },
  {
   "cell_type": "markdown",
   "metadata": {},
   "source": [
    "通常、ツールはユーザーリクエストに応じてエージェントが呼び出しますが、MCPツールを直接呼び出すことも可能です。これは複数ツールを組み合わせたワークフローなどで便利です。"
   ]
  },
  {
   "cell_type": "code",
   "execution_count": null,
   "metadata": {},
   "outputs": [],
   "source": [
    "query = {\"x\": 10, \"y\": 20}\n",
    "\n",
    "with streamable_http_mcp_client:\n",
    "    # direct tool invocation\n",
    "    result = streamable_http_mcp_client.call_tool_sync(\n",
    "        tool_use_id=\"tool-123\", name=\"calculator\", arguments=query\n",
    "    )\n",
    "\n",
    "    # Process the result\n",
    "    print(f\"Calculation result: {result['content'][0]['text']}\")"
   ]
  },
  {
   "cell_type": "markdown",
   "metadata": {},
   "source": [
    "MCPサーバーツールを呼び出す際、長時間実行を避けるために`read_timeout_seconds`を指定することもできます。"
   ]
  },
  {
   "cell_type": "code",
   "execution_count": null,
   "metadata": {},
   "outputs": [],
   "source": [
    "with streamable_http_mcp_client:\n",
    "    try:\n",
    "        result = streamable_http_mcp_client.call_tool_sync(\n",
    "            tool_use_id=\"tool-123\",\n",
    "            name=\"long_running_tool\",\n",
    "            arguments={\"name\": \"Amazon\"},\n",
    "            read_timeout_seconds=timedelta(seconds=30),\n",
    "        )\n",
    "\n",
    "        if result[\"status\"] == \"error\":\n",
    "            print(f\"Tool execution failed: {result['content'][0]['text']}\")\n",
    "        else:\n",
    "            print(f\"Tool execution succeeded: {result['content'][0]['text']}\")\n",
    "    except Exception as e:\n",
    "        print(f\"Tool call timed out or failed: {str(e)}\")"
   ]
  },
  {
   "cell_type": "markdown",
   "metadata": {},
   "source": [
    "### 複数のMCPサーバーとの連携\n",
    "\n",
    "Strands Agentsでは、1つのエージェントで複数のMCPサーバーと連携し、`max_parallel_tools`（同時利用可能なツール数の上限）などのツール設定も可能です。以下の例でこの設定を紹介します。\n",
    "\n",
    "<div style=\"text-align:center\">\n",
    "    <img src=\"images/architecture_3.png\" width=\"85%\" />\n",
    "</div>\n",
    "\n",
    "このエージェントでは、再びAWS Documentation MCPサーバーを利用し、さらに[AWS CDK MCP Server](https://awslabs.github.io/mcp/servers/cdk-mcp-server/)（AWS Cloud Development KitのベストプラクティスやCDK Nagによるセキュリティチェックなどを支援）も利用します。\n",
    "\n",
    "まず、2つのMCPサーバーにstdioトランスポートで接続します。"
   ]
  },
  {
   "cell_type": "code",
   "execution_count": null,
   "metadata": {},
   "outputs": [],
   "source": [
    "# Connect to an MCP server using stdio transport\n",
    "aws_docs_mcp_client = MCPClient(\n",
    "    lambda: stdio_client(\n",
    "        StdioServerParameters(\n",
    "            command=\"uvx\", args=[\"awslabs.aws-documentation-mcp-server@latest\"]\n",
    "        )\n",
    "    )\n",
    ")\n",
    "\n",
    "# Connect to an MCP server using stdio transport\n",
    "cdk_mcp_client = MCPClient(\n",
    "    lambda: stdio_client(\n",
    "        StdioServerParameters(command=\"uvx\", args=[\"awslabs.cdk-mcp-server@latest\"])\n",
    "    )\n",
    ")"
   ]
  },
  {
   "cell_type": "markdown",
   "metadata": {},
   "source": [
    "#### MCPサーバーでエージェントを作成\n",
    "\n",
    "次に、両方のMCPサーバーから取得したツールでエージェントを作成します。"
   ]
  },
  {
   "cell_type": "code",
   "execution_count": null,
   "metadata": {},
   "outputs": [],
   "source": [
    "# Create an agent with MCP tools\n",
    "with aws_docs_mcp_client, cdk_mcp_client:\n",
    "    # Get the tools from the MCP server\n",
    "    tools = aws_docs_mcp_client.list_tools_sync() + cdk_mcp_client.list_tools_sync()\n",
    "\n",
    "    # Create an agent with these tools\n",
    "    agent = Agent(\n",
    "        model=\"us.anthropic.claude-3-7-sonnet-20250219-v1:0\",\n",
    "        tools=tools)\n",
    "\n",
    "    response = agent(\n",
    "        \"What is Amazon Bedrock pricing model. Be concise. Also what are the best practices related to CDK?\"\n",
    "    )"
   ]
  },
  {
   "cell_type": "markdown",
   "metadata": {},
   "source": [
    "### おめでとうございます！\n",
    "\n",
    "このノートブックでは、Strands AgentでMCPサーバーに接続し、2種類のMCPトランスポート（stdioとStreamable HTTP）を使う方法を学びました。また、1つのエージェントで複数のMCPサーバーを連携する方法も紹介しました。次は、エージェントで異なるモデルを使う方法を見ていきましょう。"
   ]
  }
 ],
 "metadata": {
  "kernelspec": {
   "display_name": "Python 3 (ipykernel)",
   "language": "python",
   "name": "python3"
  },
  "language_info": {
   "codemirror_mode": {
    "name": "ipython",
    "version": 3
   },
   "file_extension": ".py",
   "mimetype": "text/x-python",
   "name": "python",
   "nbconvert_exporter": "python",
   "pygments_lexer": "ipython3",
   "version": "3.12.9"
  }
 },
 "nbformat": 4,
 "nbformat_minor": 4
}
